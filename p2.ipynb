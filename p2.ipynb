{
 "cells": [
  {
   "cell_type": "code",
   "execution_count": 1,
   "id": "1abd67e6",
   "metadata": {},
   "outputs": [],
   "source": [
    "# take one line (=one board)\n",
    "def printBoard(puzzle):\n",
    "    a = 0\n",
    "    for i in range(6):\n",
    "        print(puzzle[a:(a+6)])\n",
    "        a += 6\n",
    "    print(\"\\n\")"
   ]
  },
  {
   "cell_type": "code",
   "execution_count": 2,
   "id": "85565cd5",
   "metadata": {},
   "outputs": [],
   "source": [
    "class Car:\n",
    "    def __init__(self, name, fuel, coordinate, orientation):\n",
    "        \n",
    "        self.name = name\n",
    "        self.fuel = fuel\n",
    "        self.coordinate = coordinate # list of coordinates that the car present in board\n",
    "        self.orientation = orientation\n",
    "    \n",
    "    def carInfo(self):\n",
    "        print(\"Name:\",self.name , \", Fuel:\", self.fuel,\", coordinate:\",self.coordinate,\", orientation:\",self.orientation)\n",
    "        \n"
   ]
  },
  {
   "cell_type": "code",
   "execution_count": 3,
   "id": "deeada04",
   "metadata": {},
   "outputs": [],
   "source": [
    "class Board:\n",
    "\n",
    "    def __init__(self, line):\n",
    "        \n",
    "        self.board = []\n",
    "        self.cars = [] # list of car objects present in the board\n",
    "        d = 6 # dimension\n",
    "    \n",
    "        carLetters =   ['A', 'B', 'C', 'D', 'E', 'F', 'G', 'H', 'I', 'J', 'K', 'L', 'M', 'N','O','P','Q','R','S','T','U','V','W','X','Y','Z']\n",
    "\n",
    "        # empty board\n",
    "        myMatrix = [[0 for x in range(d)] for x in range(d)] \n",
    "\n",
    "\n",
    "        # making boards (36 characters)\n",
    "        a = 0    \n",
    "        for i in range(6):\n",
    "            for j in range(6):\n",
    "                myMatrix[i][j] = line[a]\n",
    "                a = a+1\n",
    "        \n",
    "        # assign board to object\n",
    "        self.board = myMatrix\n",
    "        \n",
    "        \n",
    "        \n",
    "        # coordinate of cars\n",
    "        coordinateDict = {}\n",
    "        for each in carLetters:\n",
    "            if each in line: # if car exist in board\n",
    "                coordinateDict[each] = [[x, y] for x, li in enumerate(self.board) for y, val in enumerate(li) if val==each]\n",
    "\n",
    "                \n",
    "        # fuel\n",
    "        fuelDict = {}\n",
    "        fuelInfoStr = line[36:].strip()\n",
    "        if fuelInfoStr != \"\": # additional info exist\n",
    "            fuels = fuelInfoStr.split()\n",
    "            for each in fuels:\n",
    "                fuelDict[each[0]] = int(each[1:])\n",
    "            \n",
    "            \n",
    "        \n",
    "        # make car object\n",
    "        for carName in coordinateDict:\n",
    "            \n",
    "            # orientation\n",
    "            if coordinateDict[carName][0][0] == coordinateDict[carName][1][0]:\n",
    "                orientation = \"horizontal\"\n",
    "            else:\n",
    "                orientation = \"vertical\"\n",
    "            \n",
    "            if carName in fuelDict:\n",
    "                self.cars.append(Car(carName, fuelDict[carName], coordinateDict[carName],orientation))\n",
    "        \n",
    "            else:\n",
    "                self.cars.append(Car(carName, 100, coordinateDict[carName],orientation))\n",
    "\n",
    "                                     \n",
    "\n",
    "                        \n",
    "                                     \n",
    "                                \n"
   ]
  },
  {
   "cell_type": "code",
   "execution_count": 4,
   "id": "86d93aec",
   "metadata": {},
   "outputs": [],
   "source": [
    "testLine = \"BBB..MCCDD.MAAKL.MJ.KLEEJ.GG..JHHHII J0 B4\""
   ]
  },
  {
   "cell_type": "code",
   "execution_count": 5,
   "id": "e3a9f749",
   "metadata": {},
   "outputs": [],
   "source": [
    "hey = Board(testLine)"
   ]
  },
  {
   "cell_type": "code",
   "execution_count": 6,
   "id": "0c507929",
   "metadata": {},
   "outputs": [
    {
     "data": {
      "text/plain": [
       "[['B', 'B', 'B', '.', '.', 'M'],\n",
       " ['C', 'C', 'D', 'D', '.', 'M'],\n",
       " ['A', 'A', 'K', 'L', '.', 'M'],\n",
       " ['J', '.', 'K', 'L', 'E', 'E'],\n",
       " ['J', '.', 'G', 'G', '.', '.'],\n",
       " ['J', 'H', 'H', 'H', 'I', 'I']]"
      ]
     },
     "execution_count": 6,
     "metadata": {},
     "output_type": "execute_result"
    }
   ],
   "source": [
    "hey.board"
   ]
  },
  {
   "cell_type": "code",
   "execution_count": 7,
   "id": "82ab99e6",
   "metadata": {},
   "outputs": [
    {
     "name": "stdout",
     "output_type": "stream",
     "text": [
      "Name: A , Fuel: 100 , coordinate: [[2, 0], [2, 1]] , orientation: horizontal\n",
      "Name: B , Fuel: 4 , coordinate: [[0, 0], [0, 1], [0, 2]] , orientation: horizontal\n",
      "Name: C , Fuel: 100 , coordinate: [[1, 0], [1, 1]] , orientation: horizontal\n",
      "Name: D , Fuel: 100 , coordinate: [[1, 2], [1, 3]] , orientation: horizontal\n",
      "Name: E , Fuel: 100 , coordinate: [[3, 4], [3, 5]] , orientation: horizontal\n",
      "Name: G , Fuel: 100 , coordinate: [[4, 2], [4, 3]] , orientation: horizontal\n",
      "Name: H , Fuel: 100 , coordinate: [[5, 1], [5, 2], [5, 3]] , orientation: horizontal\n",
      "Name: I , Fuel: 100 , coordinate: [[5, 4], [5, 5]] , orientation: horizontal\n",
      "Name: J , Fuel: 0 , coordinate: [[3, 0], [4, 0], [5, 0]] , orientation: vertical\n",
      "Name: K , Fuel: 100 , coordinate: [[2, 2], [3, 2]] , orientation: vertical\n",
      "Name: L , Fuel: 100 , coordinate: [[2, 3], [3, 3]] , orientation: vertical\n",
      "Name: M , Fuel: 100 , coordinate: [[0, 5], [1, 5], [2, 5]] , orientation: vertical\n"
     ]
    }
   ],
   "source": [
    "for each in hey.cars:\n",
    "    each.carInfo()"
   ]
  },
  {
   "cell_type": "code",
   "execution_count": 8,
   "id": "7e6fc796",
   "metadata": {},
   "outputs": [],
   "source": [
    "file_path = \"SampleInputOutput/Sample/sample-input.txt\"\n",
    "hashtag = \"#\"\n",
    "\n",
    "def readPuzzles(file_path):\n",
    "    with open(file_path) as file:\n",
    "        puzzles = [line.rstrip() for line in file]\n",
    "        puzzles = list(filter(None, puzzles))\n",
    "        \n",
    "        for line in puzzles.copy():\n",
    "            if hashtag in line:\n",
    "                puzzles.remove(line)\n",
    "    return puzzles  \n"
   ]
  },
  {
   "cell_type": "code",
   "execution_count": 9,
   "id": "7b5634aa",
   "metadata": {},
   "outputs": [],
   "source": [
    "lines = readPuzzles(file_path)"
   ]
  },
  {
   "cell_type": "code",
   "execution_count": 10,
   "id": "da5cea43",
   "metadata": {},
   "outputs": [
    {
     "name": "stdout",
     "output_type": "stream",
     "text": [
      "Name: A , Fuel: 100 , coordinate: [[2, 3], [2, 4]] , orientation: horizontal\n",
      "Name: B , Fuel: 100 , coordinate: [[0, 0], [0, 1]] , orientation: horizontal\n",
      "Name: C , Fuel: 100 , coordinate: [[1, 4], [1, 5]] , orientation: horizontal\n",
      "Name: D , Fuel: 100 , coordinate: [[3, 1], [3, 2]] , orientation: horizontal\n",
      "Name: F , Fuel: 100 , coordinate: [[5, 2], [5, 3]] , orientation: horizontal\n",
      "Name: G , Fuel: 100 , coordinate: [[3, 0], [4, 0], [5, 0]] , orientation: vertical\n",
      "Name: H , Fuel: 100 , coordinate: [[4, 1], [5, 1]] , orientation: vertical\n",
      "Name: I , Fuel: 100 , coordinate: [[0, 2], [1, 2], [2, 2]] , orientation: vertical\n",
      "Name: J , Fuel: 100 , coordinate: [[0, 3], [1, 3]] , orientation: vertical\n",
      "Name: K , Fuel: 100 , coordinate: [[3, 3], [4, 3]] , orientation: vertical\n",
      "Name: L , Fuel: 100 , coordinate: [[4, 4], [5, 4]] , orientation: vertical\n",
      "Name: M , Fuel: 100 , coordinate: [[2, 5], [3, 5]] , orientation: vertical\n",
      "\n",
      "\n",
      "Name: A , Fuel: 100 , coordinate: [[2, 2], [2, 3]] , orientation: horizontal\n",
      "Name: B , Fuel: 100 , coordinate: [[1, 0], [1, 1]] , orientation: horizontal\n",
      "Name: D , Fuel: 100 , coordinate: [[3, 2], [3, 3]] , orientation: horizontal\n",
      "Name: E , Fuel: 100 , coordinate: [[4, 4], [4, 5]] , orientation: horizontal\n",
      "Name: F , Fuel: 100 , coordinate: [[5, 0], [5, 1]] , orientation: horizontal\n",
      "Name: G , Fuel: 100 , coordinate: [[2, 0], [3, 0], [4, 0]] , orientation: vertical\n",
      "Name: H , Fuel: 100 , coordinate: [[2, 1], [3, 1]] , orientation: vertical\n",
      "Name: I , Fuel: 100 , coordinate: [[0, 2], [1, 2]] , orientation: vertical\n",
      "Name: J , Fuel: 100 , coordinate: [[4, 3], [5, 3]] , orientation: vertical\n",
      "Name: K , Fuel: 100 , coordinate: [[1, 4], [2, 4], [3, 4]] , orientation: vertical\n",
      "Name: L , Fuel: 100 , coordinate: [[2, 5], [3, 5]] , orientation: vertical\n",
      "\n",
      "\n",
      "Name: A , Fuel: 100 , coordinate: [[2, 1], [2, 2]] , orientation: horizontal\n",
      "Name: B , Fuel: 100 , coordinate: [[0, 1], [0, 2]] , orientation: horizontal\n",
      "Name: C , Fuel: 100 , coordinate: [[0, 3], [0, 4], [0, 5]] , orientation: horizontal\n",
      "Name: D , Fuel: 100 , coordinate: [[1, 1], [1, 2]] , orientation: horizontal\n",
      "Name: F , Fuel: 100 , coordinate: [[3, 0], [3, 1]] , orientation: horizontal\n",
      "Name: G , Fuel: 100 , coordinate: [[4, 3], [4, 4]] , orientation: horizontal\n",
      "Name: H , Fuel: 100 , coordinate: [[5, 1], [5, 2]] , orientation: horizontal\n",
      "Name: J , Fuel: 100 , coordinate: [[0, 0], [1, 0], [2, 0]] , orientation: vertical\n",
      "Name: K , Fuel: 100 , coordinate: [[3, 2], [4, 2]] , orientation: vertical\n",
      "Name: L , Fuel: 100 , coordinate: [[2, 3], [3, 3]] , orientation: vertical\n",
      "Name: M , Fuel: 100 , coordinate: [[1, 5], [2, 5]] , orientation: vertical\n",
      "Name: N , Fuel: 100 , coordinate: [[3, 5], [4, 5]] , orientation: vertical\n",
      "\n",
      "\n",
      "Name: A , Fuel: 100 , coordinate: [[2, 0], [2, 1]] , orientation: horizontal\n",
      "Name: B , Fuel: 4 , coordinate: [[0, 0], [0, 1], [0, 2]] , orientation: horizontal\n",
      "Name: C , Fuel: 100 , coordinate: [[1, 0], [1, 1]] , orientation: horizontal\n",
      "Name: D , Fuel: 100 , coordinate: [[1, 2], [1, 3]] , orientation: horizontal\n",
      "Name: E , Fuel: 100 , coordinate: [[3, 4], [3, 5]] , orientation: horizontal\n",
      "Name: G , Fuel: 100 , coordinate: [[4, 2], [4, 3]] , orientation: horizontal\n",
      "Name: H , Fuel: 100 , coordinate: [[5, 1], [5, 2], [5, 3]] , orientation: horizontal\n",
      "Name: I , Fuel: 100 , coordinate: [[5, 4], [5, 5]] , orientation: horizontal\n",
      "Name: J , Fuel: 0 , coordinate: [[3, 0], [4, 0], [5, 0]] , orientation: vertical\n",
      "Name: K , Fuel: 100 , coordinate: [[2, 2], [3, 2]] , orientation: vertical\n",
      "Name: L , Fuel: 100 , coordinate: [[2, 3], [3, 3]] , orientation: vertical\n",
      "Name: M , Fuel: 100 , coordinate: [[0, 5], [1, 5], [2, 5]] , orientation: vertical\n",
      "\n",
      "\n",
      "Name: A , Fuel: 100 , coordinate: [[2, 2], [2, 3]] , orientation: horizontal\n",
      "Name: B , Fuel: 100 , coordinate: [[0, 2], [0, 3]] , orientation: horizontal\n",
      "Name: C , Fuel: 100 , coordinate: [[0, 4], [0, 5]] , orientation: horizontal\n",
      "Name: D , Fuel: 100 , coordinate: [[1, 2], [1, 3]] , orientation: horizontal\n",
      "Name: E , Fuel: 100 , coordinate: [[3, 0], [3, 1]] , orientation: horizontal\n",
      "Name: F , Fuel: 0 , coordinate: [[4, 3], [4, 4]] , orientation: horizontal\n",
      "Name: G , Fuel: 6 , coordinate: [[5, 1], [5, 2]] , orientation: horizontal\n",
      "Name: H , Fuel: 100 , coordinate: [[5, 3], [5, 4]] , orientation: horizontal\n",
      "Name: I , Fuel: 100 , coordinate: [[0, 0], [1, 0], [2, 0]] , orientation: vertical\n",
      "Name: J , Fuel: 100 , coordinate: [[0, 1], [1, 1], [2, 1]] , orientation: vertical\n",
      "Name: K , Fuel: 100 , coordinate: [[3, 2], [4, 2]] , orientation: vertical\n",
      "Name: L , Fuel: 100 , coordinate: [[1, 4], [2, 4], [3, 4]] , orientation: vertical\n",
      "\n",
      "\n",
      "Name: A , Fuel: 100 , coordinate: [[2, 1], [2, 2]] , orientation: horizontal\n",
      "Name: B , Fuel: 100 , coordinate: [[0, 0], [0, 1]] , orientation: horizontal\n",
      "Name: C , Fuel: 100 , coordinate: [[3, 3], [3, 4]] , orientation: horizontal\n",
      "Name: D , Fuel: 100 , coordinate: [[4, 0], [4, 1]] , orientation: horizontal\n",
      "Name: E , Fuel: 100 , coordinate: [[1, 0], [2, 0]] , orientation: vertical\n",
      "Name: F , Fuel: 100 , coordinate: [[3, 2], [4, 2], [5, 2]] , orientation: vertical\n",
      "Name: G , Fuel: 100 , coordinate: [[0, 3], [1, 3], [2, 3]] , orientation: vertical\n",
      "Name: H , Fuel: 100 , coordinate: [[0, 5], [1, 5]] , orientation: vertical\n",
      "Name: I , Fuel: 100 , coordinate: [[2, 5], [3, 5], [4, 5]] , orientation: vertical\n",
      "\n",
      "\n"
     ]
    }
   ],
   "source": [
    "for each in lines:\n",
    "    test = Board(each)\n",
    "    for car in test.cars:\n",
    "        car.carInfo()\n",
    "    print(\"\\n\")"
   ]
  },
  {
   "cell_type": "code",
   "execution_count": null,
   "id": "8ebac1c3",
   "metadata": {},
   "outputs": [],
   "source": []
  }
 ],
 "metadata": {
  "kernelspec": {
   "display_name": "Python 3 (ipykernel)",
   "language": "python",
   "name": "python3"
  },
  "language_info": {
   "codemirror_mode": {
    "name": "ipython",
    "version": 3
   },
   "file_extension": ".py",
   "mimetype": "text/x-python",
   "name": "python",
   "nbconvert_exporter": "python",
   "pygments_lexer": "ipython3",
   "version": "3.10.4"
  }
 },
 "nbformat": 4,
 "nbformat_minor": 5
}
